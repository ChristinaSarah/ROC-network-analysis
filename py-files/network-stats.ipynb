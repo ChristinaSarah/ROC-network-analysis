{
 "cells": [
  {
   "cell_type": "code",
   "execution_count": 23,
   "metadata": {},
   "outputs": [],
   "source": [
    "#General packages useful in notebook \n",
    "import os\n",
    "import pandas as pd\n",
    "import warnings \n",
    "import numpy as np\n",
    "import networkx as nx \n",
    "\n",
    "warnings.filterwarnings(\"ignore\")\n",
    "\n",
    "os.chdir('/workspaces/ROC-network-analysis/py-files/')\n",
    "\n",
    "\n",
    "#This second part of validation_tool does not drop data but checks that the cleaned dataset has good data quality\n",
    "from validation_tool import get_dataframe_into_ds,check_data_quality,assure_data_quality\n",
    "#from validation_tool import get_peers_outside_class_warning\n",
    "\n",
    "from datafy import get_isolated_child_inwards_per_class\n",
    "from datafy import get_paired_ds\n",
    "from datafy import get_reciprocal_friendship_ds\n",
    "from datafy import get_reciprocity_total_nominations_frak\n",
    "from datafy import get_isolated_outwards_info\n",
    "\n",
    "os.chdir('/workspaces/ROC-network-analysis/')"
   ]
  },
  {
   "cell_type": "code",
   "execution_count": 24,
   "metadata": {},
   "outputs": [],
   "source": [
    "# Not pretty solution to change name on follow_up_file.\n",
    "FUR_0 = pd.read_csv(\"/workspaces/ROC-network-analysis/input-files/roc_network_data_follow_up.csv\")\n",
    "\n",
    "FUR_1 = FUR_0.rename(columns={'fs_school_id':'school_id',\n",
    "                              'fs_school_no':'school_no', \n",
    "                              'fs_classroom_no':'classroom_no', \n",
    "                              'fs_classroom':'classroom_id',\n",
    "                              'fs_student_id':'student_id',\n",
    "                              'emot_1':'friend_1', \n",
    "                              'emot_2':'friend_2', \n",
    "                              'emot_3':'friend_3', \n",
    "                              'academic_1':'support_1',\n",
    "                              'academic_2':'support_2', \n",
    "                              'academic_3':'support_3'})\n",
    "\n",
    "FUR_1.to_csv(\"/workspaces/ROC-network-analysis/input-files/roc_network_data_follow_up2.csv\",header=True, index=False)"
   ]
  },
  {
   "cell_type": "code",
   "execution_count": null,
   "metadata": {},
   "outputs": [
    {
     "name": "stdout",
     "output_type": "stream",
     "text": [
      "variable:  classroom_id , count_unique_values: 185\n",
      "variable:  s_merge_id , count_unique_values: 11669\n",
      "variable:  bs_m_score , count_unique_values: 16\n",
      "variable:  school_id , count_unique_values: 127\n",
      "variable:  student_id , count_unique_values: 6269\n",
      "variable:  high_eyes , count_unique_values: 2\n",
      "variable:  high_raven , count_unique_values: 2\n",
      "variable:  bs_b_score , count_unique_values: 26\n",
      "variable:  high_bangla , count_unique_values: 2\n",
      "variable:  high_math , count_unique_values: 2\n",
      "variable:  support_1 , count_unique_values: 3510\n",
      "variable:  support_2 , count_unique_values: 3593\n",
      "variable:  support_3 , count_unique_values: 3486\n",
      "variable:  group_id , count_unique_values: 0\n"
     ]
    }
   ],
   "source": [
    "#Please change name\n",
    "file_name = \"roc_network_data_follow_up2.csv\"\n",
    "id_xlsx = False\n",
    "## Full list the validation tool is run over\n",
    "target_variables = ['school_id','classroom_id','student_id']\n",
    "\n",
    "\n",
    "if file_name != 'follow_up.csv':\n",
    "    final_df = pd.read_csv(f\"/workspaces/ROC-network-analysis/input-files/{file_name}\")\n",
    "\n",
    "    final_df = assure_data_quality(get_dataframe_into_ds(#path = '/Users/network-analysis/input-files/',\n",
    "                                                        path=os.getcwd()+\"/input-files\",\n",
    "                                                        file_name= file_name, \n",
    "                                                        is_xlsx=id_xlsx),\n",
    "                                                        target_variables=target_variables)\n",
    "\n",
    "    final_df['group_id']=np.nan\n",
    "\n",
    "    check_data_quality(final_df)\n",
    "\n",
    "    #Keep all records, including those not in endline (this will be pass thru in stats for religious segregations but not in the others).\n",
    "    final_df_with_no_el_also = final_df.copy()\n",
    "\n",
    "    #Filter out endline (el) = no to avoid affecting statistics. \n",
    "    final_df_el_y = final_df[final_df['el']=='yes'].copy().reset_index(drop=True)\n",
    "    final_df = final_df_el_y.copy()\n",
    "\n",
    "else:\n",
    "    df = pd.read_csv(f\"/workspaces/ROC-network-analysis/input-files/{file_name}\")\n",
    "    final_df = df.dropna(axis = 0, how = 'all')"
   ]
  },
  {
   "cell_type": "code",
   "execution_count": 26,
   "metadata": {},
   "outputs": [
    {
     "ename": "ZeroDivisionError",
     "evalue": "division by zero",
     "output_type": "error",
     "traceback": [
      "\u001b[0;31m---------------------------------------------------------------------------\u001b[0m",
      "\u001b[0;31mZeroDivisionError\u001b[0m                         Traceback (most recent call last)",
      "Cell \u001b[0;32mIn[26], line 9\u001b[0m\n\u001b[1;32m      6\u001b[0m output_name_with_destination \u001b[38;5;241m=\u001b[39m \u001b[38;5;124mf\u001b[39m\u001b[38;5;124m\"\u001b[39m\u001b[38;5;124m/workspaces/ROC-network-analysis/output-files/\u001b[39m\u001b[38;5;132;01m{\u001b[39;00mfile_name\u001b[38;5;241m.\u001b[39msplit(\u001b[38;5;124m\"\u001b[39m\u001b[38;5;124m.\u001b[39m\u001b[38;5;124m\"\u001b[39m)[\u001b[38;5;241m0\u001b[39m]\u001b[38;5;132;01m}\u001b[39;00m\u001b[38;5;124m_network_ouput\u001b[39m\u001b[38;5;124m\"\u001b[39m\u001b[38;5;241m+\u001b[39m\u001b[38;5;124m\"\u001b[39m\u001b[38;5;124m_\u001b[39m\u001b[38;5;124m\"\u001b[39m\u001b[38;5;241m+\u001b[39m\u001b[38;5;28mstr\u001b[39m(tv)\u001b[38;5;241m+\u001b[39m\u001b[38;5;124m\"\u001b[39m\u001b[38;5;124m.xlsx\u001b[39m\u001b[38;5;124m\"\u001b[39m \n\u001b[1;32m      8\u001b[0m \u001b[38;5;66;03m# Fraction of isolated children (inwards)\u001b[39;00m\n\u001b[0;32m----> 9\u001b[0m isolated_inwards_ds, isolated_inwards_list_df \u001b[38;5;241m=\u001b[39m \u001b[43mget_isolated_child_inwards_per_class\u001b[49m\u001b[43m(\u001b[49m\u001b[43mfinal_df\u001b[49m\u001b[43m,\u001b[49m\u001b[43mtarget_variable\u001b[49m\u001b[38;5;241;43m=\u001b[39;49m\u001b[43mtv\u001b[49m\u001b[43m)\u001b[49m\n\u001b[1;32m     10\u001b[0m \u001b[38;5;28mprint\u001b[39m(\u001b[38;5;124m\"\u001b[39m\u001b[38;5;124mIsolation (inwards), per target variable \u001b[39m\u001b[38;5;124m\"\u001b[39m \u001b[38;5;241m+\u001b[39m \u001b[38;5;28mstr\u001b[39m(tv))\n\u001b[1;32m     11\u001b[0m \u001b[38;5;28;01mif\u001b[39;00m isolated_inwards_ds\u001b[38;5;241m.\u001b[39mshape[\u001b[38;5;241m0\u001b[39m]\u001b[38;5;241m>\u001b[39m\u001b[38;5;241m0\u001b[39m:\n",
      "File \u001b[0;32m/workspaces/ROC-network-analysis/py-files/datafy.py:57\u001b[0m, in \u001b[0;36mget_isolated_child_inwards_per_class\u001b[0;34m(ds, target_variable)\u001b[0m\n\u001b[1;32m     55\u001b[0m                     isolated_peer_count \u001b[38;5;241m+\u001b[39m\u001b[38;5;241m=\u001b[39m\u001b[38;5;241m1\u001b[39m\n\u001b[1;32m     56\u001b[0m         \u001b[38;5;66;03m# Already percentages.\u001b[39;00m\n\u001b[0;32m---> 57\u001b[0m     classDct[c] \u001b[38;5;241m=\u001b[39m np\u001b[38;5;241m.\u001b[39mround(\u001b[43misolated_peer_count\u001b[49m\u001b[38;5;241;43m/\u001b[39;49m\u001b[43mclass_size\u001b[49m,\u001b[38;5;241m6\u001b[39m)\n\u001b[1;32m     59\u001b[0m isolated_frak_ds \u001b[38;5;241m=\u001b[39m pd\u001b[38;5;241m.\u001b[39mDataFrame({\u001b[38;5;124m'\u001b[39m\u001b[38;5;124mclassroom_id\u001b[39m\u001b[38;5;124m'\u001b[39m: classDct\u001b[38;5;241m.\u001b[39mkeys(),\u001b[38;5;124m'\u001b[39m\u001b[38;5;124misolated_f_\u001b[39m\u001b[38;5;124m%\u001b[39m\u001b[38;5;124m'\u001b[39m: classDct\u001b[38;5;241m.\u001b[39mvalues()})\n\u001b[1;32m     61\u001b[0m isolated_frak_ds \u001b[38;5;241m=\u001b[39m pd\u001b[38;5;241m.\u001b[39mDataFrame({\u001b[38;5;124m'\u001b[39m\u001b[38;5;124mclassroom_id\u001b[39m\u001b[38;5;124m'\u001b[39m: classDct\u001b[38;5;241m.\u001b[39mkeys(),\u001b[38;5;124m'\u001b[39m\u001b[38;5;124misolated_f_\u001b[39m\u001b[38;5;124m%\u001b[39m\u001b[38;5;124m'\u001b[39m: classDct\u001b[38;5;241m.\u001b[39mvalues()})\n",
      "\u001b[0;31mZeroDivisionError\u001b[0m: division by zero"
     ]
    }
   ],
   "source": [
    "target_variables = ['friend_','support_']\n",
    "\n",
    "for tv in target_variables:\n",
    "    \n",
    "    #output_name_with_destination = \"/Users/network-analysis/output-files/Network_analysis\"+\"_\"+str(tv)+\".xlsx\"\n",
    "    output_name_with_destination = f\"/workspaces/ROC-network-analysis/output-files/{file_name.split(\".\")[0]}_network_ouput\"+\"_\"+str(tv)+\".xlsx\" \n",
    "\n",
    "    # Fraction of isolated children (inwards)\n",
    "    isolated_inwards_ds, isolated_inwards_list_df = get_isolated_child_inwards_per_class(final_df,target_variable=tv)\n",
    "    print(\"Isolation (inwards), per target variable \" + str(tv))\n",
    "    if isolated_inwards_ds.shape[0]>0:\n",
    "        print(\"--status--OK\")\n",
    "\n",
    "    # Fraction of isolated children --this seems to work as it should, but spits out same over variables, so probably not right.\n",
    "    isolated_frak_outwards,output_df_isolated_outwards = get_isolated_outwards_info(final_df,tv)\n",
    "    print(\"Isolation (outwards), per target variable \" + str(tv) )\n",
    "    if isolated_frak_outwards.shape[0]>0:\n",
    "        print(\"--status--OK\")\n",
    "\n",
    "    # Total reciprocity count and fraction (method 1) --this works as before on the development dataset, not on the new one tho.\n",
    "    reciprocity_total_nominations = get_reciprocity_total_nominations_frak(get_paired_ds(final_df,target_variable=tv),\n",
    "                                        get_reciprocal_friendship_ds(get_paired_ds(final_df,target_variable=tv)))\n",
    "\n",
    "\n",
    "\n",
    "    print(\"Reciprocity total nominations, per target variable \" + str(tv))\n",
    "    if reciprocity_total_nominations.shape[0]>0:\n",
    "        print(\"--status--OK\")\n",
    "\n",
    "\n",
    "    with pd.ExcelWriter(output_name_with_destination) as writer: \n",
    "            isolated_inwards_ds.to_excel(writer,sheet_name='Isolated_inwards_share',startrow=0, \n",
    "                                            startcol=0,index=False)\n",
    "            \n",
    "            reciprocity_total_nominations.to_excel(writer,sheet_name='Reciprocity_share',startrow=0, \n",
    "                                            startcol=0,index=False)"
   ]
  }
 ],
 "metadata": {
  "kernelspec": {
   "display_name": "base",
   "language": "python",
   "name": "python3"
  },
  "language_info": {
   "codemirror_mode": {
    "name": "ipython",
    "version": 3
   },
   "file_extension": ".py",
   "mimetype": "text/x-python",
   "name": "python",
   "nbconvert_exporter": "python",
   "pygments_lexer": "ipython3",
   "version": "3.12.3"
  }
 },
 "nbformat": 4,
 "nbformat_minor": 2
}
